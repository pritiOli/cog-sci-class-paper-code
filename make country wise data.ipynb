{
 "cells": [
  {
   "cell_type": "code",
   "execution_count": 30,
   "metadata": {},
   "outputs": [],
   "source": [
    "import os\n",
    "from collections import defaultdict"
   ]
  },
  {
   "cell_type": "code",
   "execution_count": 16,
   "metadata": {},
   "outputs": [],
   "source": [
    "dest_path = \"cultural data\"\n",
    "source_path = \"unga_corpus\"\n",
    "\n",
    "all_files = os.listdir(source_path)\n"
   ]
  },
  {
   "cell_type": "code",
   "execution_count": 17,
   "metadata": {},
   "outputs": [],
   "source": [
    "country_of_interest=['USA','FRA','DEU','NZL','ITA','IRN',\n",
    "                    'NIU','RUS','HKG','CHN','IND','ISR','ZAF']"
   ]
  },
  {
   "cell_type": "code",
   "execution_count": 45,
   "metadata": {},
   "outputs": [],
   "source": [
    "for file in all_files:\n",
    "    country=file[:3]\n",
    "    filename = os.path.join(source_path,file)\n",
    "    destination\n",
    "    if country in country_of_interest:\n",
    "        try:\n",
    "            source = open(filename, 'r', encoding='ISO-8859-1').read()\n",
    "            destination=open(dest_path+'/'+country+'.txt','a+',encoding='UTF-8')\n",
    "            destination.write(source)\n",
    "        except Exception as e:\n",
    "            print(e)\n",
    "\n"
   ]
  },
  {
   "cell_type": "code",
   "execution_count": 18,
   "metadata": {},
   "outputs": [],
   "source": [
    "for country in country_of_interest:\n",
    "    open(dest_path+'/'+country+'.txt','w+',encoding='UTF-8')"
   ]
  },
  {
   "cell_type": "code",
   "execution_count": 28,
   "metadata": {},
   "outputs": [
    {
     "name": "stdout",
     "output_type": "stream",
     "text": [
      "AFG_26_1971.txt\n",
      "____\n",
      "AFG_27_1972.txt\n",
      "____\n",
      "AFG_28_1973.txt\n",
      "____\n",
      "AFG_29_1974.txt\n",
      "____\n",
      "AFG_30_1975.txt\n",
      "____\n",
      "AFG_31_1976.txt\n",
      "____\n",
      "AFG_32_1977.txt\n",
      "____\n",
      "AFG_33_1978.txt\n",
      "____\n",
      "AFG_34_1979.txt\n",
      "____\n",
      "AFG_35_1980.txt\n",
      "____\n",
      "AFG_36_1981.txt\n",
      "____\n",
      "AFG_38_1983.txt\n",
      "____\n",
      "AFG_39_1984.txt\n",
      "____\n",
      "AFG_40_1985.txt\n",
      "____\n",
      "AFG_41_1986.txt\n",
      "____\n",
      "AFG_42_1987.txt\n",
      "____\n",
      "AFG_43_1988.txt\n",
      "____\n",
      "AFG_44_1989.txt\n",
      "____\n",
      "AFG_46_1991.txt\n",
      "____\n",
      "AFG_47_1992.txt\n",
      "____\n",
      "AFG_48_1993.txt\n",
      "____\n",
      "AFG_49_1994.txt\n",
      "____\n",
      "AFG_50_1995.txt\n",
      "____\n",
      "AFG_51_1996.txt\n",
      "____\n",
      "AFG_52_1997.txt\n",
      "____\n",
      "AFG_53_1998.txt\n",
      "____\n",
      "AFG_54_1999.txt\n",
      "____\n",
      "AFG_55_2000.txt\n",
      "____\n",
      "AFG_56_2001.txt\n",
      "____\n",
      "AFG_57_2002.txt\n",
      "____\n",
      "AFG_58_2003.txt\n",
      "____\n",
      "AFG_59_2004.txt\n",
      "____\n",
      "AFG_60_2005.txt\n",
      "____\n",
      "AFG_61_2006.txt\n",
      "____\n",
      "AFG_62_2007.txt\n",
      "____\n",
      "AFG_63_2008.txt\n",
      "____\n",
      "AFG_64_2009.txt\n",
      "____\n",
      "AFG_65_2010.txt\n",
      "____\n",
      "AFG_66_2011.txt\n",
      "____\n",
      "AFG_67_2012.txt\n",
      "____\n",
      "AFG_68_2013.txt\n",
      "____\n",
      "AFG_69_2014.txt\n",
      "____\n",
      "AFG_70_2015.txt\n",
      "____\n",
      "AFG_71_2016.txt\n",
      "____\n",
      "AFG_72_2017.txt\n",
      "____\n",
      "AFG_73_2018.txt\n",
      "____\n",
      "AFG_74_2019.txt\n",
      "____\n"
     ]
    },
    {
     "ename": "UnicodeDecodeError",
     "evalue": "'utf-8' codec can't decode byte 0x92 in position 356: invalid start byte",
     "output_type": "error",
     "traceback": [
      "\u001b[1;31m---------------------------------------------------------------------------\u001b[0m",
      "\u001b[1;31mUnicodeDecodeError\u001b[0m                        Traceback (most recent call last)",
      "\u001b[1;32m<ipython-input-28-5bea51f542b0>\u001b[0m in \u001b[0;36m<module>\u001b[1;34m\u001b[0m\n\u001b[0;32m      5\u001b[0m     \u001b[0msource\u001b[0m\u001b[1;33m=\u001b[0m\u001b[0mopen\u001b[0m\u001b[1;33m(\u001b[0m\u001b[0msource_path\u001b[0m\u001b[1;33m+\u001b[0m\u001b[1;34m'/'\u001b[0m\u001b[1;33m+\u001b[0m\u001b[0mfile\u001b[0m\u001b[1;33m,\u001b[0m\u001b[1;34m'r'\u001b[0m\u001b[1;33m,\u001b[0m \u001b[0mencoding\u001b[0m\u001b[1;33m=\u001b[0m\u001b[1;34m'utf-8'\u001b[0m\u001b[1;33m)\u001b[0m\u001b[1;33m\u001b[0m\u001b[1;33m\u001b[0m\u001b[0m\n\u001b[0;32m      6\u001b[0m     \u001b[0mdest\u001b[0m\u001b[1;33m=\u001b[0m\u001b[0mopen\u001b[0m\u001b[1;33m(\u001b[0m\u001b[0mdest_path\u001b[0m\u001b[1;33m+\u001b[0m\u001b[1;34m'/'\u001b[0m\u001b[1;33m+\u001b[0m\u001b[0mcountry\u001b[0m\u001b[1;33m+\u001b[0m\u001b[1;34m'.txt'\u001b[0m\u001b[1;33m,\u001b[0m\u001b[1;34m'a+'\u001b[0m\u001b[1;33m,\u001b[0m \u001b[0mencoding\u001b[0m\u001b[1;33m=\u001b[0m\u001b[1;34m'utf-8'\u001b[0m\u001b[1;33m)\u001b[0m\u001b[1;33m\u001b[0m\u001b[1;33m\u001b[0m\u001b[0m\n\u001b[1;32m----> 7\u001b[1;33m     \u001b[0mdest\u001b[0m\u001b[1;33m.\u001b[0m\u001b[0mwrite\u001b[0m\u001b[1;33m(\u001b[0m\u001b[0msource\u001b[0m\u001b[1;33m.\u001b[0m\u001b[0mread\u001b[0m\u001b[1;33m(\u001b[0m\u001b[1;33m)\u001b[0m\u001b[1;33m)\u001b[0m\u001b[1;33m\u001b[0m\u001b[1;33m\u001b[0m\u001b[0m\n\u001b[0m",
      "\u001b[1;32mC:\\ProgramData\\Anaconda3\\envs\\try\\lib\\codecs.py\u001b[0m in \u001b[0;36mdecode\u001b[1;34m(self, input, final)\u001b[0m\n\u001b[0;32m    319\u001b[0m         \u001b[1;31m# decode input (taking the buffer into account)\u001b[0m\u001b[1;33m\u001b[0m\u001b[1;33m\u001b[0m\u001b[1;33m\u001b[0m\u001b[0m\n\u001b[0;32m    320\u001b[0m         \u001b[0mdata\u001b[0m \u001b[1;33m=\u001b[0m \u001b[0mself\u001b[0m\u001b[1;33m.\u001b[0m\u001b[0mbuffer\u001b[0m \u001b[1;33m+\u001b[0m \u001b[0minput\u001b[0m\u001b[1;33m\u001b[0m\u001b[1;33m\u001b[0m\u001b[0m\n\u001b[1;32m--> 321\u001b[1;33m         \u001b[1;33m(\u001b[0m\u001b[0mresult\u001b[0m\u001b[1;33m,\u001b[0m \u001b[0mconsumed\u001b[0m\u001b[1;33m)\u001b[0m \u001b[1;33m=\u001b[0m \u001b[0mself\u001b[0m\u001b[1;33m.\u001b[0m\u001b[0m_buffer_decode\u001b[0m\u001b[1;33m(\u001b[0m\u001b[0mdata\u001b[0m\u001b[1;33m,\u001b[0m \u001b[0mself\u001b[0m\u001b[1;33m.\u001b[0m\u001b[0merrors\u001b[0m\u001b[1;33m,\u001b[0m \u001b[0mfinal\u001b[0m\u001b[1;33m)\u001b[0m\u001b[1;33m\u001b[0m\u001b[1;33m\u001b[0m\u001b[0m\n\u001b[0m\u001b[0;32m    322\u001b[0m         \u001b[1;31m# keep undecoded input until the next call\u001b[0m\u001b[1;33m\u001b[0m\u001b[1;33m\u001b[0m\u001b[1;33m\u001b[0m\u001b[0m\n\u001b[0;32m    323\u001b[0m         \u001b[0mself\u001b[0m\u001b[1;33m.\u001b[0m\u001b[0mbuffer\u001b[0m \u001b[1;33m=\u001b[0m \u001b[0mdata\u001b[0m\u001b[1;33m[\u001b[0m\u001b[0mconsumed\u001b[0m\u001b[1;33m:\u001b[0m\u001b[1;33m]\u001b[0m\u001b[1;33m\u001b[0m\u001b[1;33m\u001b[0m\u001b[0m\n",
      "\u001b[1;31mUnicodeDecodeError\u001b[0m: 'utf-8' codec can't decode byte 0x92 in position 356: invalid start byte"
     ]
    }
   ],
   "source": [
    "for file in all_files:\n",
    "    country=file[:3]\n",
    "    print(file)\n",
    "    print(\"____\")\n",
    "    source=open(source_path+'/'+file,'r', encoding='utf-8')\n",
    "    dest=open(dest_path+'/'+country+'.txt','a+', encoding='utf-8')\n",
    "    dest.write(source.read())"
   ]
  },
  {
   "cell_type": "code",
   "execution_count": null,
   "metadata": {},
   "outputs": [],
   "source": []
  }
 ],
 "metadata": {
  "kernelspec": {
   "display_name": "try",
   "language": "python",
   "name": "try"
  },
  "language_info": {
   "codemirror_mode": {
    "name": "ipython",
    "version": 3
   },
   "file_extension": ".py",
   "mimetype": "text/x-python",
   "name": "python",
   "nbconvert_exporter": "python",
   "pygments_lexer": "ipython3",
   "version": "3.6.13"
  }
 },
 "nbformat": 4,
 "nbformat_minor": 2
}
