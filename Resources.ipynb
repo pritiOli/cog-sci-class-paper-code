{
 "cells": [
  {
   "cell_type": "code",
   "execution_count": null,
   "id": "2a039fc2",
   "metadata": {},
   "outputs": [],
   "source": [
    "https://www.kdnuggets.com/2020/08/word-embedding-fairness-evaluation.html"
   ]
  },
  {
   "cell_type": "code",
   "execution_count": null,
   "id": "9bbfc44e",
   "metadata": {},
   "outputs": [],
   "source": [
    "https://github.com/dccuchile/wefe/blob/master/examples/KDNuggetsTutorial.ipynb"
   ]
  }
 ],
 "metadata": {
  "kernelspec": {
   "display_name": "try",
   "language": "python",
   "name": "try"
  },
  "language_info": {
   "codemirror_mode": {
    "name": "ipython",
    "version": 3
   },
   "file_extension": ".py",
   "mimetype": "text/x-python",
   "name": "python",
   "nbconvert_exporter": "python",
   "pygments_lexer": "ipython3",
   "version": "3.6.13"
  }
 },
 "nbformat": 4,
 "nbformat_minor": 5
}
