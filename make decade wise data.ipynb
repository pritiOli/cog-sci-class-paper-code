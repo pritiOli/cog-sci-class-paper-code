{
 "cells": [
  {
   "cell_type": "code",
   "execution_count": 31,
   "metadata": {},
   "outputs": [],
   "source": [
    "import os"
   ]
  },
  {
   "cell_type": "code",
   "execution_count": 32,
   "metadata": {},
   "outputs": [],
   "source": [
    "path = \"temporal data\"\n",
    "all_files = os.listdir(path)\n"
   ]
  },
  {
   "cell_type": "code",
   "execution_count": 33,
   "metadata": {},
   "outputs": [
    {
     "name": "stdout",
     "output_type": "stream",
     "text": [
      "[1970, 1980, 1990, 2000, 2010]\n"
     ]
    }
   ],
   "source": [
    "decade_files = [ i for i in range(1970,2020,10)]\n",
    "print(decade_files)\n",
    "for file in decade_files:\n",
    "    open(\"decade files/\"+str(file)+'.txt','w+',encoding='UTF-8')\n",
    "decade_map={\"7\":1970,\"8\":1980,\"9\":1990,\"0\":2000,\"1\":2010,\"2\":2020}"
   ]
  },
  {
   "cell_type": "code",
   "execution_count": 35,
   "metadata": {},
   "outputs": [
    {
     "name": "stdout",
     "output_type": "stream",
     "text": [
      "70\n",
      "70\n",
      "70\n",
      "70\n",
      "70\n",
      "70\n",
      "70\n",
      "70\n",
      "70\n",
      "70\n",
      "80\n",
      "80\n",
      "80\n",
      "80\n",
      "80\n",
      "80\n",
      "80\n",
      "80\n",
      "80\n",
      "90\n",
      "90\n",
      "90\n",
      "90\n",
      "90\n",
      "90\n",
      "90\n",
      "90\n",
      "90\n",
      "0\n",
      "0\n",
      "0\n",
      "0\n",
      "0\n",
      "0\n",
      "0\n",
      "0\n",
      "0\n",
      "0\n",
      "10\n",
      "10\n",
      "10\n",
      "10\n",
      "10\n",
      "10\n",
      "10\n",
      "10\n",
      "10\n",
      "10\n",
      "20\n",
      "20\n"
     ]
    }
   ],
   "source": [
    "for file in all_files:\n",
    "    if file!='.ipynb_checkpoints':\n",
    "        decade=int(file[2])\n",
    "        print(decade)\n",
    "#         write_to=open(\"decade files/\"+str(decade)+'.txt','a+',encoding='UTF-8')\n",
    "#         content=open(\"temporal data/\"+file,'r+',encoding=\"UTF-8\")\n",
    "#         write_to.write(content.read())\n"
   ]
  },
  {
   "cell_type": "code",
   "execution_count": null,
   "metadata": {},
   "outputs": [],
   "source": []
  },
  {
   "cell_type": "code",
   "execution_count": null,
   "metadata": {},
   "outputs": [],
   "source": []
  }
 ],
 "metadata": {
  "kernelspec": {
   "display_name": "try",
   "language": "python",
   "name": "try"
  },
  "language_info": {
   "codemirror_mode": {
    "name": "ipython",
    "version": 3
   },
   "file_extension": ".py",
   "mimetype": "text/x-python",
   "name": "python",
   "nbconvert_exporter": "python",
   "pygments_lexer": "ipython3",
   "version": "3.6.13"
  }
 },
 "nbformat": 4,
 "nbformat_minor": 2
}
