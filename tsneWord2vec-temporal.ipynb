{
 "cells": [
  {
   "cell_type": "code",
   "execution_count": 113,
   "metadata": {},
   "outputs": [],
   "source": [
    "import re\n",
    "import nltk\n",
    "import gensim\n",
    "from gensim.models import word2vec\n",
    "from nltk.corpus import stopwords\n",
    "from nltk.stem.wordnet import WordNetLemmatizer\n",
    "import string\n",
    "import numpy as np\n",
    "\n",
    "from sklearn.manifold import TSNE\n",
    "import matplotlib.pyplot as plt\n",
    "%matplotlib inline"
   ]
  },
  {
   "cell_type": "code",
   "execution_count": 114,
   "metadata": {},
   "outputs": [],
   "source": [
    "content = open('decade files/2020.txt',encoding='UTF-8').readlines()"
   ]
  },
  {
   "cell_type": "code",
   "execution_count": 115,
   "metadata": {},
   "outputs": [],
   "source": [
    "stopword_set = set(stopwords.words('english'))\n",
    "stopword_set.update(['country','people','united','nation','peace','world','state','must','assembly','human','countries',\n",
    "            'development','organization','the','nations','that','of','their','has','which','international','u','new','right','global',\n",
    "                     'today','president','need','one','also','south','africa','african','soviet'])\n",
    "\n",
    "punctuation_set = set(string.punctuation)\n",
    "lemma=WordNetLemmatizer()"
   ]
  },
  {
   "cell_type": "code",
   "execution_count": 116,
   "metadata": {},
   "outputs": [],
   "source": [
    "def preprocess(doc):\n",
    "    remove_stopwords  = \" \".join(word for word in doc.lower().split() if word not in stopword_set)\n",
    "    remove_puncutation = \"\".join(ch for ch in remove_stopwords if ch not in punctuation_set)\n",
    "    remove_digit = \" \".join(word for word in remove_puncutation.split() if not word.isdigit())\n",
    "    return remove_digit"
   ]
  },
  {
   "cell_type": "code",
   "execution_count": 117,
   "metadata": {},
   "outputs": [],
   "source": [
    "data=[preprocess(c) for c in content]"
   ]
  },
  {
   "cell_type": "code",
   "execution_count": 118,
   "metadata": {},
   "outputs": [],
   "source": [
    "#print(data[1:10])"
   ]
  },
  {
   "cell_type": "code",
   "execution_count": 119,
   "metadata": {},
   "outputs": [],
   "source": [
    "def build_corpus(data):\n",
    "    corpus=[]\n",
    "    for sentence in data:\n",
    "        word_list=sentence.split()\n",
    "        corpus.append(word_list)\n",
    "    return corpus"
   ]
  },
  {
   "cell_type": "code",
   "execution_count": 120,
   "metadata": {},
   "outputs": [
    {
     "data": {
      "text/plain": [
       "[[],\n",
       " ['name', 'allah', 'gracious', 'merciful', 'mr', 'president'],\n",
       " ['assamu', 'alaikum'],\n",
       " ['congratulate', 'election', '75th', 'session', 'general', 'assembly'],\n",
       " ['passing',\n",
       "  'unprecedented',\n",
       "  'crisis',\n",
       "  'history',\n",
       "  'humankind',\n",
       "  'due',\n",
       "  'covid',\n",
       "  'pandemic',\n",
       "  'first',\n",
       "  'time',\n",
       "  'uns',\n",
       "  'history',\n",
       "  'general',\n",
       "  'taking',\n",
       "  'place',\n",
       "  'digital',\n",
       "  'platform',\n",
       "  'without',\n",
       "  'presence',\n",
       "  'person',\n",
       "  'heads',\n",
       "  'states',\n",
       "  'heads',\n",
       "  'governments',\n",
       "  'un',\n",
       "  'headquarters',\n",
       "  'york'],\n",
       " ['general',\n",
       "  'hall',\n",
       "  'evokes',\n",
       "  'deep',\n",
       "  'emotions',\n",
       "  'me',\n",
       "  'hall',\n",
       "  'father',\n",
       "  'bangabandhu',\n",
       "  'sheikh',\n",
       "  'mujibur',\n",
       "  'rahman',\n",
       "  'delivered',\n",
       "  'speech',\n",
       "  'first',\n",
       "  'time',\n",
       "  'bangla',\n",
       "  'head',\n",
       "  'government',\n",
       "  'newly',\n",
       "  'independent',\n",
       "  'country',\n",
       "  'privilege',\n",
       "  'attending',\n",
       "  'general',\n",
       "  'sessions',\n",
       "  'inperson',\n",
       "  'times',\n",
       "  'emphasized',\n",
       "  'solidarity',\n",
       "  'speeches',\n",
       "  'head',\n",
       "  'government',\n",
       "  'year',\n",
       "  'delivering',\n",
       "  '17th',\n",
       "  'speech',\n",
       "  'assembly'],\n",
       " ['take',\n",
       "  'opportunity',\n",
       "  'pay',\n",
       "  'tribute',\n",
       "  'frontline',\n",
       "  'fighters',\n",
       "  'including',\n",
       "  'health',\n",
       "  'workers',\n",
       "  'public',\n",
       "  'servants',\n",
       "  'working',\n",
       "  'tirelessly',\n",
       "  'ensure',\n",
       "  'safety',\n",
       "  'affected',\n",
       "  'population',\n",
       "  'commend',\n",
       "  'secretarygeneral',\n",
       "  'bold',\n",
       "  'leadership',\n",
       "  'multilateral',\n",
       "  'efforts',\n",
       "  'crisis',\n",
       "  'bangladesh',\n",
       "  'among',\n",
       "  'first',\n",
       "  'rank',\n",
       "  'endorse',\n",
       "  'secretarygenerals',\n",
       "  'various',\n",
       "  'initiatives',\n",
       "  'including',\n",
       "  'ceasefire',\n",
       "  'appeal'],\n",
       " ['second',\n",
       "  'war',\n",
       "  'created',\n",
       "  'opportunities',\n",
       "  'come',\n",
       "  'together',\n",
       "  'efforts',\n",
       "  'cooperate',\n",
       "  'establishment',\n",
       "  'nations',\n",
       "  'similarly',\n",
       "  'pandemic',\n",
       "  'emphasized',\n",
       "  'collective',\n",
       "  'action',\n",
       "  'guidance',\n",
       "  'leadership'],\n",
       " ['profound',\n",
       "  'gratitude',\n",
       "  'remember',\n",
       "  'undisputed',\n",
       "  'leader',\n",
       "  'bangabandhu',\n",
       "  'sheikh',\n",
       "  'mujibur',\n",
       "  'rahman',\n",
       "  'greatest',\n",
       "  'bangalee',\n",
       "  'time',\n",
       "  'taught',\n",
       "  'bangalee',\n",
       "  'stand',\n",
       "  'firm',\n",
       "  'ending',\n",
       "  'exploitation',\n",
       "  'deprivation',\n",
       "  'oppression',\n",
       "  'following',\n",
       "  'footsteps',\n",
       "  'able',\n",
       "  'secure',\n",
       "  'respectable',\n",
       "  'position',\n",
       "  'bangladesh',\n",
       "  'comity',\n",
       "  'nation',\n",
       "  'august',\n",
       "  'declared',\n",
       "  'quote',\n",
       "  'noble',\n",
       "  'ideals',\n",
       "  'enshrined',\n",
       "  'charter',\n",
       "  'ideals',\n",
       "  'millions',\n",
       "  'made',\n",
       "  'supreme',\n",
       "  'sacrifice'],\n",
       " ['the',\n",
       "  'bangalee',\n",
       "  'fully',\n",
       "  'commits',\n",
       "  'building',\n",
       "  'order',\n",
       "  'aspiration',\n",
       "  'men',\n",
       "  'justice',\n",
       "  'realized',\n",
       "  'statement',\n",
       "  'indeed',\n",
       "  'bold',\n",
       "  'expression',\n",
       "  'multilateralism',\n",
       "  'reflection',\n",
       "  'bangabandhu',\n",
       "  'made',\n",
       "  'continues',\n",
       "  'remain',\n",
       "  'equally',\n",
       "  'relevant',\n",
       "  'even',\n",
       "  'today',\n",
       "  'grapple',\n",
       "  'current',\n",
       "  'crisis']]"
      ]
     },
     "execution_count": 120,
     "metadata": {},
     "output_type": "execute_result"
    }
   ],
   "source": [
    "corpus = build_corpus(data)\n",
    "corpus[0:10]"
   ]
  },
  {
   "cell_type": "code",
   "execution_count": 121,
   "metadata": {},
   "outputs": [],
   "source": [
    "model = word2vec.Word2Vec(corpus,window=20,min_count=20,workers=4)"
   ]
  },
  {
   "cell_type": "code",
   "execution_count": 122,
   "metadata": {},
   "outputs": [
    {
     "data": {
      "text/plain": [
       "array([ 0.12934637,  0.42725766, -0.90527064, -2.4085705 ,  0.67056555,\n",
       "        1.8921006 , -0.8004913 ,  0.6455499 , -0.8552844 ,  2.0539882 ,\n",
       "       -0.61524045, -0.12524979, -2.7508407 , -0.13267235, -1.6821226 ,\n",
       "       -1.3644004 , -0.2528287 ,  0.5397921 ,  2.0788946 , -2.4636467 ,\n",
       "        0.24195796, -4.054246  ,  1.5896285 ,  1.4125028 , -1.6116835 ,\n",
       "       -0.19737722, -0.9952728 , -1.5585045 ,  0.07976621,  0.73490894,\n",
       "        1.3523664 , -0.4431588 , -0.16331972, -2.7100964 ,  2.9570863 ,\n",
       "       -2.9928615 , -3.1186714 ,  1.1777147 , -1.013601  , -1.2984804 ,\n",
       "       -0.82857037, -1.4745051 , -2.409384  ,  3.6855106 ,  0.5950227 ,\n",
       "       -3.580126  ,  0.4205875 , -0.69613785,  1.4442222 , -2.454723  ,\n",
       "        0.5210396 ,  0.43214014,  3.8484738 ,  0.53838336,  0.04234827,\n",
       "       -1.0433741 , -2.8622403 , -1.8118919 ,  0.6918011 , -2.5900888 ,\n",
       "        2.138525  , -2.5876758 ,  1.8460997 , -0.64413154, -2.1420887 ,\n",
       "        1.1855752 ,  2.8113008 ,  2.0239234 , -0.88242984,  2.6636639 ,\n",
       "       -1.3079212 ,  3.0411894 ,  0.36116543,  0.7345982 ,  1.0282444 ,\n",
       "        3.3021364 , -0.8156815 ,  0.86505514,  2.1068547 , -1.667196  ,\n",
       "       -2.5515747 , -2.0230596 , -0.11477228,  0.6447062 , -2.4876547 ,\n",
       "       -1.4026191 , -0.20588404,  0.65699667, -1.8966132 , -0.3623577 ,\n",
       "        0.701864  , -1.9475179 , -0.5714613 ,  0.9607829 ,  1.3532387 ,\n",
       "       -2.108841  ,  1.9541851 ,  1.6217523 ,  0.26543784,  1.4093266 ],\n",
       "      dtype=float32)"
      ]
     },
     "execution_count": 122,
     "metadata": {},
     "output_type": "execute_result"
    }
   ],
   "source": [
    "model.wv['climate']"
   ]
  },
  {
   "cell_type": "code",
   "execution_count": 123,
   "metadata": {},
   "outputs": [],
   "source": [
    "def tsne_plot(model):\n",
    "    \"Creates and TSNE model and plots it\"\n",
    "    labels = []\n",
    "    tokens = []\n",
    "\n",
    "    for word in model.wv.index_to_key:\n",
    "        tokens.append(model.wv[word])\n",
    "        labels.append(word)\n",
    "    \n",
    "    tsne_model = TSNE(perplexity=40, n_components=2, init='pca', n_iter=2500, random_state=23)\n",
    "    new_values = tsne_model.fit_transform(tokens)\n",
    "\n",
    "    x = []\n",
    "    y = []\n",
    "    for value in new_values:\n",
    "        x.append(value[0])\n",
    "        y.append(value[1])\n",
    "        \n",
    "    plt.figure(figsize=(16, 16)) \n",
    "    for i in range(len(x)):\n",
    "        plt.scatter(x[i],y[i])\n",
    "        plt.annotate(labels[i],\n",
    "                     xy=(x[i], y[i]),\n",
    "                     xytext=(5, 2),\n",
    "                     textcoords='offset points',\n",
    "                     ha='right',\n",
    "                     va='bottom')\n",
    "    plt.show()"
   ]
  },
  {
   "cell_type": "code",
   "execution_count": 124,
   "metadata": {},
   "outputs": [
    {
     "data": {
      "text/plain": [
       "[('biodiversity', 0.812225878238678),\n",
       " ('warming', 0.7388349771499634),\n",
       " ('effects', 0.7111719250679016),\n",
       " ('pollution', 0.7109213471412659),\n",
       " ('ecosystems', 0.7088175415992737),\n",
       " ('limit', 0.7075703740119934),\n",
       " ('oceans', 0.7055838108062744),\n",
       " ('level', 0.7054893970489502),\n",
       " ('emitters', 0.7025467753410339),\n",
       " ('ambition', 0.6979645490646362)]"
      ]
     },
     "execution_count": 124,
     "metadata": {},
     "output_type": "execute_result"
    }
   ],
   "source": [
    "model.wv.most_similar('climate')"
   ]
  },
  {
   "cell_type": "code",
   "execution_count": 125,
   "metadata": {},
   "outputs": [],
   "source": [
    "#tsne_plot(model)"
   ]
  },
  {
   "cell_type": "code",
   "execution_count": 126,
   "metadata": {},
   "outputs": [],
   "source": [
    "def display_closestwords_tsnescatterplot(model, word,name='image.png'):\n",
    "    model=model.wv\n",
    "    \n",
    "    arr = np.empty((0,100), dtype='f')\n",
    "    word_labels = [word]\n",
    "\n",
    "    # get close words\n",
    "    close_words = model.similar_by_word(word)\n",
    "    \n",
    "    # add the vector for each of the closest words to the array\n",
    "    arr = np.append(arr, np.array([model[word]]), axis=0)\n",
    "    for wrd_score in close_words:\n",
    "        wrd_vector = model[wrd_score[0]]\n",
    "        word_labels.append(wrd_score[0])\n",
    "        arr = np.append(arr, np.array([wrd_vector]), axis=0)\n",
    "        \n",
    "    # find tsne coords for 2 dimensions\n",
    "    tsne = TSNE(n_components=2, random_state=0)\n",
    "    np.set_printoptions(suppress=True)\n",
    "    Y = tsne.fit_transform(arr)\n",
    "\n",
    "    x_coords = Y[:, 0]\n",
    "    y_coords = Y[:, 1]\n",
    "    # display scatter plot\n",
    "    plt.scatter(x_coords, y_coords)\n",
    "\n",
    "    for label, x, y in zip(word_labels, x_coords, y_coords):\n",
    "        plt.annotate(label, xy=(x, y), xytext=(0, 0), textcoords='offset points')\n",
    "    plt.xlim(x_coords.min()+0.00005, x_coords.max()+0.00005)\n",
    "    plt.ylim(y_coords.min()+0.00005, y_coords.max()+0.00005)\n",
    "    plt.savefig('output/'+name+'.png')\n",
    "    plt.show()"
   ]
  },
  {
   "cell_type": "code",
   "execution_count": 127,
   "metadata": {},
   "outputs": [
    {
     "data": {
      "image/png": "[encoded data removed]",
      "text/plain": [
       "<Figure size 432x288 with 1 Axes>"
      ]
     },
     "metadata": {
      "needs_background": "light"
     },
     "output_type": "display_data"
    }
   ],
   "source": [
    "display_closestwords_tsnescatterplot(model, 'climate','2020')"
   ]
  },
  {
   "cell_type": "code",
   "execution_count": null,
   "metadata": {},
   "outputs": [],
   "source": []
  },
  {
   "cell_type": "code",
   "execution_count": null,
   "metadata": {},
   "outputs": [],
   "source": []
  }
 ],
 "metadata": {
  "kernelspec": {
   "display_name": "try",
   "language": "python",
   "name": "try"
  },
  "language_info": {
   "codemirror_mode": {
    "name": "ipython",
    "version": 3
   },
   "file_extension": ".py",
   "mimetype": "text/x-python",
   "name": "python",
   "nbconvert_exporter": "python",
   "pygments_lexer": "ipython3",
   "version": "3.6.13"
  }
 },
 "nbformat": 4,
 "nbformat_minor": 5
}
