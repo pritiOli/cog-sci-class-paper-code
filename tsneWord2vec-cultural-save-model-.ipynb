{
 "cells": [
  {
   "cell_type": "code",
   "execution_count": 1,
   "id": "ad11e85a",
   "metadata": {},
   "outputs": [
    {
     "name": "stderr",
     "output_type": "stream",
     "text": [
      "\n",
      "Bad key text.latex.unicode in file C:\\ProgramData\\Anaconda3\\envs\\try\\lib\\site-packages\\matplotlib\\mpl-data\\stylelib\\_classic_test.mplstyle, line 112 ('text.latex.unicode : False # use \"ucs\" and \"inputenc\" LaTeX packages for handling')\n",
      "You probably need to get an updated matplotlibrc file from\n",
      "https://github.com/matplotlib/matplotlib/blob/v3.3.4/matplotlibrc.template\n",
      "or from the matplotlib source distribution\n",
      "\n",
      "Bad key text.dvipnghack in file C:\\ProgramData\\Anaconda3\\envs\\try\\lib\\site-packages\\matplotlib\\mpl-data\\stylelib\\_classic_test.mplstyle, line 127 (\"text.dvipnghack : None      # some versions of dvipng don't handle alpha\")\n",
      "You probably need to get an updated matplotlibrc file from\n",
      "https://github.com/matplotlib/matplotlib/blob/v3.3.4/matplotlibrc.template\n",
      "or from the matplotlib source distribution\n",
      "\n",
      "Bad key savefig.frameon in file C:\\ProgramData\\Anaconda3\\envs\\try\\lib\\site-packages\\matplotlib\\mpl-data\\stylelib\\_classic_test.mplstyle, line 430 ('savefig.frameon : True')\n",
      "You probably need to get an updated matplotlibrc file from\n",
      "https://github.com/matplotlib/matplotlib/blob/v3.3.4/matplotlibrc.template\n",
      "or from the matplotlib source distribution\n",
      "\n",
      "Bad key nbagg.transparent in file C:\\ProgramData\\Anaconda3\\envs\\try\\lib\\site-packages\\matplotlib\\mpl-data\\stylelib\\_classic_test.mplstyle, line 433 ('nbagg.transparent: True')\n",
      "You probably need to get an updated matplotlibrc file from\n",
      "https://github.com/matplotlib/matplotlib/blob/v3.3.4/matplotlibrc.template\n",
      "or from the matplotlib source distribution\n",
      "\n",
      "Bad key pgf.debug in file C:\\ProgramData\\Anaconda3\\envs\\try\\lib\\site-packages\\matplotlib\\mpl-data\\stylelib\\_classic_test.mplstyle, line 453 ('pgf.debug           : False')\n",
      "You probably need to get an updated matplotlibrc file from\n",
      "https://github.com/matplotlib/matplotlib/blob/v3.3.4/matplotlibrc.template\n",
      "or from the matplotlib source distribution\n",
      "\n",
      "Bad key verbose.level in file C:\\ProgramData\\Anaconda3\\envs\\try\\lib\\site-packages\\matplotlib\\mpl-data\\stylelib\\_classic_test.mplstyle, line 484 ('verbose.level  : silent      # one of silent, helpful, debug, debug-annoying')\n",
      "You probably need to get an updated matplotlibrc file from\n",
      "https://github.com/matplotlib/matplotlib/blob/v3.3.4/matplotlibrc.template\n",
      "or from the matplotlib source distribution\n",
      "\n",
      "Bad key verbose.fileo in file C:\\ProgramData\\Anaconda3\\envs\\try\\lib\\site-packages\\matplotlib\\mpl-data\\stylelib\\_classic_test.mplstyle, line 485 ('verbose.fileo  : sys.stdout  # a log filename, sys.stdout or sys.stderr')\n",
      "You probably need to get an updated matplotlibrc file from\n",
      "https://github.com/matplotlib/matplotlib/blob/v3.3.4/matplotlibrc.template\n",
      "or from the matplotlib source distribution\n",
      "\n",
      "Bad key animation.mencoder_path in file C:\\ProgramData\\Anaconda3\\envs\\try\\lib\\site-packages\\matplotlib\\mpl-data\\stylelib\\_classic_test.mplstyle, line 516 ('animation.mencoder_path: mencoder')\n",
      "You probably need to get an updated matplotlibrc file from\n",
      "https://github.com/matplotlib/matplotlib/blob/v3.3.4/matplotlibrc.template\n",
      "or from the matplotlib source distribution\n",
      "\n",
      "Bad key animation.mencoder_args in file C:\\ProgramData\\Anaconda3\\envs\\try\\lib\\site-packages\\matplotlib\\mpl-data\\stylelib\\_classic_test.mplstyle, line 519 ('animation.mencoder_args:          # Additional arguments to pass to mencoder')\n",
      "You probably need to get an updated matplotlibrc file from\n",
      "https://github.com/matplotlib/matplotlib/blob/v3.3.4/matplotlibrc.template\n",
      "or from the matplotlib source distribution\n",
      "In C:\\ProgramData\\Anaconda3\\envs\\try\\lib\\site-packages\\matplotlib\\mpl-data\\stylelib\\_classic_test.mplstyle: \n",
      "The text.latex.preview rcparam was deprecated in Matplotlib 3.3 and will be removed two minor releases later.\n",
      "In C:\\ProgramData\\Anaconda3\\envs\\try\\lib\\site-packages\\matplotlib\\mpl-data\\stylelib\\_classic_test.mplstyle: \n",
      "The mathtext.fallback_to_cm rcparam was deprecated in Matplotlib 3.3 and will be removed two minor releases later.\n",
      "In C:\\ProgramData\\Anaconda3\\envs\\try\\lib\\site-packages\\matplotlib\\mpl-data\\stylelib\\_classic_test.mplstyle: Support for setting the 'mathtext.fallback_to_cm' rcParam is deprecated since 3.3 and will be removed two minor releases later; use 'mathtext.fallback : 'cm' instead.\n",
      "In C:\\ProgramData\\Anaconda3\\envs\\try\\lib\\site-packages\\matplotlib\\mpl-data\\stylelib\\_classic_test.mplstyle: \n",
      "The validate_bool_maybe_none function was deprecated in Matplotlib 3.3 and will be removed two minor releases later.\n",
      "In C:\\ProgramData\\Anaconda3\\envs\\try\\lib\\site-packages\\matplotlib\\mpl-data\\stylelib\\_classic_test.mplstyle: \n",
      "The savefig.jpeg_quality rcparam was deprecated in Matplotlib 3.3 and will be removed two minor releases later.\n",
      "In C:\\ProgramData\\Anaconda3\\envs\\try\\lib\\site-packages\\matplotlib\\mpl-data\\stylelib\\_classic_test.mplstyle: \n",
      "The keymap.all_axes rcparam was deprecated in Matplotlib 3.3 and will be removed two minor releases later.\n",
      "In C:\\ProgramData\\Anaconda3\\envs\\try\\lib\\site-packages\\matplotlib\\mpl-data\\stylelib\\_classic_test.mplstyle: \n",
      "The animation.avconv_path rcparam was deprecated in Matplotlib 3.3 and will be removed two minor releases later.\n",
      "In C:\\ProgramData\\Anaconda3\\envs\\try\\lib\\site-packages\\matplotlib\\mpl-data\\stylelib\\_classic_test.mplstyle: \n",
      "The animation.avconv_args rcparam was deprecated in Matplotlib 3.3 and will be removed two minor releases later.\n"
     ]
    }
   ],
   "source": [
    "import re\n",
    "import nltk\n",
    "import gensim\n",
    "from gensim.models import word2vec\n",
    "from nltk.corpus import stopwords\n",
    "from nltk.stem.wordnet import WordNetLemmatizer\n",
    "import string\n",
    "import numpy as np\n",
    "\n",
    "from sklearn.manifold import TSNE\n",
    "import matplotlib.pyplot as plt\n",
    "%matplotlib inline"
   ]
  },
  {
   "cell_type": "code",
   "execution_count": 2,
   "id": "daaa37b0",
   "metadata": {},
   "outputs": [],
   "source": [
    "\n",
    "ccc=['USA','FRA','DEU','NZL','ITA','IRN',\n",
    "                    'NIU','RUS','HKG','CHN','IND','ISR','ZAF']\n",
    "index=12\n",
    "country=ccc[index]\n",
    "content = open('cultural data/'+country+'.txt',encoding='UTF-8').readlines()"
   ]
  },
  {
   "cell_type": "code",
   "execution_count": 3,
   "id": "553dc88d",
   "metadata": {},
   "outputs": [],
   "source": [
    "stopword_set = set(stopwords.words('english'))\n",
    "stopword_set.update(['country','people','united','nation','peace','world','state','must','assembly','human','countries',\n",
    "            'development','organization','the','nations','that','of','their','has','which','international','u','new','right','global',\n",
    "                     'today','president','need','one','also','south','africa','african','soviet'])\n",
    "\n",
    "punctuation_set = set(string.punctuation)\n",
    "lemma=WordNetLemmatizer()"
   ]
  },
  {
   "cell_type": "code",
   "execution_count": 4,
   "id": "7ee9041b",
   "metadata": {},
   "outputs": [],
   "source": [
    "def preprocess(doc):\n",
    "    remove_stopwords  = \" \".join(word for word in doc.lower().split() if word not in stopword_set)\n",
    "    remove_puncutation = \"\".join(ch for ch in remove_stopwords if ch not in punctuation_set)\n",
    "    remove_digit = \" \".join(word for word in remove_puncutation.split() if not word.isdigit())\n",
    "    return remove_digit"
   ]
  },
  {
   "cell_type": "code",
   "execution_count": 5,
   "id": "b55b2104",
   "metadata": {},
   "outputs": [],
   "source": [
    "data=[preprocess(c) for c in content]"
   ]
  },
  {
   "cell_type": "code",
   "execution_count": 6,
   "id": "f0be5f9c",
   "metadata": {},
   "outputs": [],
   "source": [
    "#print(data[1:10])"
   ]
  },
  {
   "cell_type": "code",
   "execution_count": 7,
   "id": "acd3662d",
   "metadata": {},
   "outputs": [],
   "source": [
    "def build_corpus(data):\n",
    "    corpus=[]\n",
    "    for sentence in data:\n",
    "        word_list=sentence.split()\n",
    "        corpus.append(word_list)\n",
    "    return corpus"
   ]
  },
  {
   "cell_type": "code",
   "execution_count": 8,
   "id": "d196273a",
   "metadata": {},
   "outputs": [
    {
     "data": {
      "text/plain": [
       "[['76th', 'session', 'un', 'general', 'assembly', 'mr', 'abdulla', 'shahid'],\n",
       " ['secretary', 'general', 'mr', 'antã³nio', 'guterres'],\n",
       " ['excellencies', 'heads', 'government'],\n",
       " ['colleagues'],\n",
       " ['friends'],\n",
       " ['join', 'todayâ\\x80\\x99s', 'general', 'debate', 'around', 'world'],\n",
       " ['covid19',\n",
       "  'pandemic',\n",
       "  'forever',\n",
       "  'changed',\n",
       "  'nature',\n",
       "  'multilateral',\n",
       "  'engagement',\n",
       "  'diplomacy',\n",
       "  'business',\n",
       "  'basic',\n",
       "  'interaction'],\n",
       " ['yet',\n",
       "  'even',\n",
       "  'separated',\n",
       "  'expanses',\n",
       "  'geography',\n",
       "  'noble',\n",
       "  'ideals',\n",
       "  'fellowship',\n",
       "  'solidarity',\n",
       "  'cooperation',\n",
       "  'stand',\n",
       "  'firm'],\n",
       " ['bedrock',\n",
       "  'formed',\n",
       "  'years',\n",
       "  'ago',\n",
       "  'guide',\n",
       "  'confront',\n",
       "  'worst',\n",
       "  'health',\n",
       "  'emergency',\n",
       "  'century'],\n",
       " ['covid19', 'pandemic', 'caused', 'great', 'devastation', 'around', 'world']]"
      ]
     },
     "execution_count": 8,
     "metadata": {},
     "output_type": "execute_result"
    }
   ],
   "source": [
    "corpus = build_corpus(data)\n",
    "corpus[0:10]"
   ]
  },
  {
   "cell_type": "code",
   "execution_count": 9,
   "id": "22ae11f5",
   "metadata": {},
   "outputs": [],
   "source": [
    "model = word2vec.Word2Vec(corpus,window=20,min_count=20,workers=4)\n"
   ]
  },
  {
   "cell_type": "code",
   "execution_count": 10,
   "id": "8914f9ba",
   "metadata": {},
   "outputs": [],
   "source": [
    "model.save(\"Models-cultural/word2vec-\"+ccc[index]+\".w2v\")"
   ]
  },
  {
   "cell_type": "code",
   "execution_count": 11,
   "id": "184db85b",
   "metadata": {},
   "outputs": [
    {
     "data": {
      "text/plain": [
       "array([-0.10404368, -0.03159   ,  0.00103446, -0.11397031,  0.09897723,\n",
       "       -0.01551135,  0.12347232, -0.05608032,  0.28703302, -0.29857573,\n",
       "       -0.07163771,  0.06654403,  0.0868509 ,  0.1037863 ,  0.05173663,\n",
       "       -0.25769845,  0.28077543, -0.12422416,  0.26834926,  0.16930678,\n",
       "        0.01854364, -0.00484104, -0.0433471 ,  0.20639732, -0.00433345,\n",
       "        0.10690014,  0.18827727,  0.1186277 , -0.10683843,  0.00730721,\n",
       "        0.08344446,  0.18999298, -0.04323793,  0.08631937,  0.00230057,\n",
       "       -0.08856566,  0.05768863,  0.13513803,  0.02286962,  0.06094473,\n",
       "        0.17821755, -0.05206439,  0.10034432,  0.05569262, -0.12854633,\n",
       "       -0.17934772,  0.02086071,  0.03133345, -0.16615774, -0.20217127,\n",
       "       -0.11203606, -0.04548562,  0.01750142,  0.10802197,  0.28245836,\n",
       "       -0.33902392,  0.19917068,  0.25555155, -0.18249348, -0.18633352,\n",
       "       -0.04078242, -0.16037552, -0.21349356, -0.15634397,  0.11264697,\n",
       "       -0.17596294,  0.13420556, -0.17966768, -0.04543276,  0.17161436,\n",
       "        0.12578909, -0.21168415,  0.05771952, -0.04012349,  0.10728945,\n",
       "        0.11772058,  0.04357862, -0.15852332, -0.14233254,  0.18137911,\n",
       "       -0.20612237,  0.05275563, -0.11594316, -0.36003718,  0.21847917,\n",
       "        0.12637691,  0.30089417,  0.14175373, -0.22428805,  0.10235535,\n",
       "       -0.02685133,  0.2135348 , -0.25376344, -0.1157403 , -0.01225218,\n",
       "       -0.02915856,  0.02460829,  0.02808085,  0.00549519, -0.20875281],\n",
       "      dtype=float32)"
      ]
     },
     "execution_count": 11,
     "metadata": {},
     "output_type": "execute_result"
    }
   ],
   "source": [
    "model.wv['climate']"
   ]
  },
  {
   "cell_type": "code",
   "execution_count": 12,
   "id": "346c8c76",
   "metadata": {},
   "outputs": [],
   "source": [
    "def tsne_plot(model):\n",
    "    \"Creates and TSNE model and plots it\"\n",
    "    labels = []\n",
    "    tokens = []\n",
    "\n",
    "    for word in model.wv.index_to_key:\n",
    "        tokens.append(model.wv[word])\n",
    "        labels.append(word)\n",
    "    \n",
    "    tsne_model = TSNE(perplexity=40, n_components=2, init='pca', n_iter=2500, random_state=23)\n",
    "    new_values = tsne_model.fit_transform(tokens)\n",
    "\n",
    "    x = []\n",
    "    y = []\n",
    "    for value in new_values:\n",
    "        x.append(value[0])\n",
    "        y.append(value[1])\n",
    "        \n",
    "    plt.figure(figsize=(16, 16)) \n",
    "    for i in range(len(x)):\n",
    "        plt.scatter(x[i],y[i])\n",
    "        plt.annotate(labels[i],\n",
    "                     xy=(x[i], y[i]),\n",
    "                     xytext=(5, 2),\n",
    "                     textcoords='offset points',\n",
    "                     ha='right',\n",
    "                     va='bottom')\n",
    "    plt.show()"
   ]
  },
  {
   "cell_type": "code",
   "execution_count": 13,
   "id": "a3f850b8",
   "metadata": {},
   "outputs": [
    {
     "data": {
      "text/plain": [
       "[('social', 0.9996724128723145),\n",
       " ('remain', 0.9996650815010071),\n",
       " ('peoples', 0.9996615648269653),\n",
       " ('union', 0.9996598958969116),\n",
       " ('challenges', 0.9996589422225952),\n",
       " ('since', 0.999655544757843),\n",
       " ('security', 0.9996533989906311),\n",
       " ('years', 0.9996516704559326),\n",
       " ('others', 0.999651312828064),\n",
       " ('selfdetermination', 0.9996510744094849)]"
      ]
     },
     "execution_count": 13,
     "metadata": {},
     "output_type": "execute_result"
    }
   ],
   "source": [
    "model.wv.most_similar('climate')"
   ]
  },
  {
   "cell_type": "code",
   "execution_count": 14,
   "id": "cb165c81",
   "metadata": {},
   "outputs": [],
   "source": [
    "#tsne_plot(model)"
   ]
  },
  {
   "cell_type": "code",
   "execution_count": 15,
   "id": "340567ec",
   "metadata": {},
   "outputs": [],
   "source": [
    "def display_closestwords_tsnescatterplot(model, word,name='image.png'):\n",
    "    model=model.wv\n",
    "    \n",
    "    arr = np.empty((0,100), dtype='f')\n",
    "    word_labels = [word]\n",
    "\n",
    "    # get close words\n",
    "    close_words = model.similar_by_word(word)\n",
    "    \n",
    "    # add the vector for each of the closest words to the array\n",
    "    arr = np.append(arr, np.array([model[word]]), axis=0)\n",
    "    for wrd_score in close_words:\n",
    "        wrd_vector = model[wrd_score[0]]\n",
    "        word_labels.append(wrd_score[0])\n",
    "        arr = np.append(arr, np.array([wrd_vector]), axis=0)\n",
    "        \n",
    "    # find tsne coords for 2 dimensions\n",
    "    tsne = TSNE(n_components=2, random_state=0)\n",
    "    np.set_printoptions(suppress=True)\n",
    "    Y = tsne.fit_transform(arr)\n",
    "\n",
    "    x_coords = Y[:, 0]\n",
    "    y_coords = Y[:, 1]\n",
    "    # display scatter plot\n",
    "    plt.scatter(x_coords, y_coords)\n",
    "\n",
    "    for label, x, y in zip(word_labels, x_coords, y_coords):\n",
    "        plt.annotate(label, xy=(x, y), xytext=(0, 0), textcoords='offset points')\n",
    "    plt.xlim(x_coords.min()+0.00005, x_coords.max()+0.00005)\n",
    "    plt.ylim(y_coords.min()+0.00005, y_coords.max()+0.00005)\n",
    "    plt.savefig('output-cultural/'+name+'.png')\n",
    "    plt.show()"
   ]
  },
  {
   "cell_type": "code",
   "execution_count": 16,
   "id": "2eb66b13",
   "metadata": {},
   "outputs": [
    {
     "data": {
      "image/png": "[encoded data removed]",
      "text/plain": [
       "<Figure size 432x288 with 1 Axes>"
      ]
     },
     "metadata": {
      "needs_background": "light"
     },
     "output_type": "display_data"
    }
   ],
   "source": [
    "display_closestwords_tsnescatterplot(model, 'climate',ccc[index])"
   ]
  },
  {
   "cell_type": "code",
   "execution_count": null,
   "id": "1e3fd15e",
   "metadata": {},
   "outputs": [],
   "source": []
  },
  {
   "cell_type": "code",
   "execution_count": null,
   "id": "948f54ab",
   "metadata": {},
   "outputs": [],
   "source": []
  }
 ],
 "metadata": {
  "kernelspec": {
   "display_name": "try",
   "language": "python",
   "name": "try"
  },
  "language_info": {
   "codemirror_mode": {
    "name": "ipython",
    "version": 3
   },
   "file_extension": ".py",
   "mimetype": "text/x-python",
   "name": "python",
   "nbconvert_exporter": "python",
   "pygments_lexer": "ipython3",
   "version": "3.6.13"
  }
 },
 "nbformat": 4,
 "nbformat_minor": 5
}
